{
 "cells": [
  {
   "cell_type": "code",
   "execution_count": 3,
   "metadata": {
    "scrolled": true
   },
   "outputs": [
    {
     "name": "stdout",
     "output_type": "stream",
     "text": [
      "[0, 4, 7, 8]\n"
     ]
    }
   ],
   "source": [
    "nums = [0,3,2,5,0,4,3,0,0]\n",
    "zeroIdx = [idx for idx,num in enumerate(nums) if num==0]\n",
    "print(zeroIdx)"
   ]
  },
  {
   "cell_type": "code",
   "execution_count": 7,
   "metadata": {},
   "outputs": [
    {
     "name": "stdout",
     "output_type": "stream",
     "text": [
      "[(0, 2), (2, 23), (5, 5), (7, 3), (9, 32), (11, 2)]\n",
      "c\n",
      "32 3\n",
      "c\n",
      "3 5\n",
      "c\n",
      "5 23\n",
      "c\n",
      "23 2\n",
      "288\n"
     ]
    }
   ],
   "source": [
    "def maxArea(height):\n",
    "    \"\"\"\n",
    "    :type height: List[int]\n",
    "    :rtype: int\n",
    "    \"\"\"\n",
    "    if len(height) <= 1:\n",
    "        return 0\n",
    "    myHeight = list(height)\n",
    "    myHeight.append(0)\n",
    "    stack = []\n",
    "    area = 0\n",
    "    for i in range(len(height)):\n",
    "        if not stack or height[stack[-1]]>=height[i]:\n",
    "            stack.append(i)\n",
    "            continue\n",
    "        while height[stack[-1]] < height[i]:\n",
    "            cur = stack.pop()\n",
    "            if len(stack) != 0:\n",
    "                area = max(area, (cur-stack[-1])*height[cur])\n",
    "                if area == 288:\n",
    "                    print('a')\n",
    "                    print(height[cur], height[stack[-1]])\n",
    "            area = max(area, (i-cur)*height[cur])\n",
    "            if area == 288:\n",
    "                print('b')\n",
    "                print(height[cur], height[stack[-1]])\n",
    "            stack.append(i)\n",
    "    print([(s,height[s]) for s in stack])\n",
    "    while len(stack) > 1:\n",
    "        cur = stack.pop()\n",
    "        area = max(area, (cur-stack[0])*height[cur])\n",
    "        if area == 288:\n",
    "            print('c')\n",
    "            print(height[cur], height[stack[-1]])\n",
    "    return area\n",
    "print(maxArea([2,2,23,2,4,5,2,3,1,32,0,2]))"
   ]
  },
  {
   "cell_type": "code",
   "execution_count": 8,
   "metadata": {},
   "outputs": [
    {
     "data": {
      "text/plain": [
       "True"
      ]
     },
     "execution_count": 8,
     "metadata": {},
     "output_type": "execute_result"
    }
   ],
   "source": [
    "[1,2] in [[1,3],[1,2]]"
   ]
  },
  {
   "cell_type": "code",
   "execution_count": 9,
   "metadata": {},
   "outputs": [
    {
     "ename": "SyntaxError",
     "evalue": "invalid syntax (<ipython-input-9-5e3be8b70943>, line 10)",
     "output_type": "error",
     "traceback": [
      "\u001b[0;36m  File \u001b[0;32m\"<ipython-input-9-5e3be8b70943>\"\u001b[0;36m, line \u001b[0;32m10\u001b[0m\n\u001b[0;31m    s += (' -> ' s.next.val)\u001b[0m\n\u001b[0m                 ^\u001b[0m\n\u001b[0;31mSyntaxError\u001b[0m\u001b[0;31m:\u001b[0m invalid syntax\n"
     ]
    }
   ],
   "source": [
    "class Node():\n",
    "    def __init__(self, val):\n",
    "        self.val = val\n",
    "        self.next = None\n",
    "\n",
    "    def __str__(self):\n",
    "        s = str(self.val)\n",
    "        temp = self\n",
    "        while temp.next != None:\n",
    "            s += (' -> ' s.next.val)\n",
    "        return s\n",
    "\n",
    "def delete(linkList, val):\n",
    "    if linkList == None:\n",
    "        return linkList\n",
    "    temp = Node(0)\n",
    "    temp.next = linkList\n",
    "    tempHead = temp\n",
    "    while temp.next != None:\n",
    "        if temp.next.val = val:\n",
    "            cur = temp.next\n",
    "            temp.next = cur.next\n",
    "            del cur\n",
    "            temp = temp.next\n",
    "    result = tempHead.next\n",
    "    del tempHead\n",
    "    return result\n",
    "\n",
    "\n",
    "if __name__ == '__main__':\n",
    "    a = Node(1)\n",
    "    temp = a\n",
    "    for i in range(2,7):\n",
    "        temp.next = Node(i)\n",
    "        temp = temp.next\n",
    "    print(a)\n",
    "    print(delete(a, 5))"
   ]
  },
  {
   "cell_type": "code",
   "execution_count": 4,
   "metadata": {},
   "outputs": [
    {
     "name": "stdout",
     "output_type": "stream",
     "text": [
      "1 -> 2 -> 5 -> 5 -> 6 -> 2\n",
      "2 -> 5 -> 5 -> 6 -> 2\n"
     ]
    }
   ],
   "source": [
    "class Node():\n",
    "    def __init__(self, val):\n",
    "        self.val = val\n",
    "        self.next = None\n",
    "\n",
    "    def __str__(self):\n",
    "        s = str(self.val)\n",
    "        temp = self\n",
    "        while temp.next != None:\n",
    "            s += (' -> ' + str(temp.next.val))\n",
    "            temp = temp.next\n",
    "        return s\n",
    "\n",
    "def delete(linkList, val):\n",
    "    if linkList == None:\n",
    "        return linkList\n",
    "    temp = Node(0)\n",
    "    temp.next = linkList\n",
    "    tempHead = temp\n",
    "    while temp.next != None:\n",
    "        while temp.next.val == val:\n",
    "            cur = temp.next\n",
    "            temp.next = cur.next\n",
    "            del cur\n",
    "        temp = temp.next\n",
    "    result = tempHead.next\n",
    "    del tempHead\n",
    "    return result\n",
    "\n",
    "\n",
    "if __name__ == '__main__':\n",
    "    a = Node(1)\n",
    "    temp = a\n",
    "    for i in [2,5,5,6,2]:\n",
    "        temp.next = Node(i)\n",
    "        temp = temp.next\n",
    "    print(a)\n",
    "    print(delete(a, 1))"
   ]
  },
  {
   "cell_type": "code",
   "execution_count": null,
   "metadata": {},
   "outputs": [],
   "source": []
  }
 ],
 "metadata": {
  "kernelspec": {
   "display_name": "Python 3",
   "language": "python",
   "name": "python3"
  },
  "language_info": {
   "codemirror_mode": {
    "name": "ipython",
    "version": 3
   },
   "file_extension": ".py",
   "mimetype": "text/x-python",
   "name": "python",
   "nbconvert_exporter": "python",
   "pygments_lexer": "ipython3",
   "version": "3.6.3"
  }
 },
 "nbformat": 4,
 "nbformat_minor": 2
}
